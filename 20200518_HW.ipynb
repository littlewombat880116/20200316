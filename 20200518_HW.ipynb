{
 "cells": [
  {
   "cell_type": "markdown",
   "metadata": {},
   "source": [
    "### Name :  1-1-CisPdf2CsvByIndiv :\n",
    "### Function :  Extract text content from CIS PDF files \n",
    "### Source Data :  高雄市議會1屆1次至2屆8次市政總質詢"
   ]
  },
  {
   "cell_type": "code",
   "execution_count": 18,
   "metadata": {},
   "outputs": [],
   "source": [
    "# -*- coding: utf-8 -*-\n",
    "\"\"\"\n",
    "Created on May 13 2020\n",
    "@author: johnson\n",
    "\"\"\"\n",
    "\n",
    "# Extract PDF by Page\n",
    "from pdfminer.pdfinterp import PDFResourceManager, PDFPageInterpreter\n",
    "from pdfminer.converter import TextConverter\n",
    "from pdfminer.pdfpage import PDFPage\n",
    "import io\n",
    "import glob\n",
    "import csv\n",
    "import os.path\n",
    "import pandas as pd"
   ]
  },
  {
   "cell_type": "markdown",
   "metadata": {},
   "source": [
    "###  user function : extract text data from PDF file via pdfminer "
   ]
  },
  {
   "cell_type": "code",
   "execution_count": 19,
   "metadata": {},
   "outputs": [],
   "source": [
    "def extract_text_by_page(pdfFile):\n",
    "    with open(pdfFile, 'rb') as fh:\n",
    "        for page in PDFPage.get_pages(fh, caching=True, check_extractable=True):\n",
    "            resource_manager = PDFResourceManager()\n",
    "            #codec = 'utf-8'\n",
    "            fake_file_handle = io.StringIO()\n",
    "            converter = TextConverter(resource_manager, fake_file_handle)\n",
    "            #  via TextConvert or HTMLConverter or XMLConverter\n",
    "            page_interpreter = PDFPageInterpreter(resource_manager, converter)\n",
    "            page_interpreter.process_page(page)\n",
    "            text = fake_file_handle.getvalue()\n",
    "            # print(text)\n",
    "            yield text\n",
    "            # close open handles\n",
    "            converter.close()\n",
    "            fake_file_handle.close()"
   ]
  },
  {
   "cell_type": "markdown",
   "metadata": {},
   "source": [
    "### user function : \n",
    "###        1) receive PDF file\n",
    "###        2) pass to  user function extract_text_by_page()   \n",
    "###        3) write into output file"
   ]
  },
  {
   "cell_type": "code",
   "execution_count": 20,
   "metadata": {},
   "outputs": [],
   "source": [
    "def export_as_csv(pdf_file, csv_path, isNew):\n",
    "    global FSeqNo\n",
    "    if isNew:\n",
    "        opMode = \"w\"\n",
    "    else:\n",
    "        opMode = 'a'\n",
    "    with open(csv_path, opMode, newline='', encoding='utf-8-sig') as csv_file:\n",
    "        writer = csv.writer(csv_file)\n",
    "        \n",
    "        print(\"PDF File: %s\" % pdf_file)\n",
    "        if isNew:\n",
    "            writer.writerow(['FileNo', 'FileName', 'Text'])   # write fields name into CSV file head\n",
    "            \n",
    "        pdfName = os.path.basename(pdf_file)\n",
    "        FSeqNo += 1\n",
    "        contain = \"\"\n",
    "        for page in extract_text_by_page(pdf_file):\n",
    "            contain = contain + page \n",
    "            \n",
    "        writer.writerow([FSeqNo, pdfName, contain])"
   ]
  },
  {
   "cell_type": "markdown",
   "metadata": {},
   "source": [
    "### main "
   ]
  },
  {
   "cell_type": "code",
   "execution_count": 21,
   "metadata": {},
   "outputs": [
    {
     "name": "stdout",
     "output_type": "stream",
     "text": [
      "PDF File: /Users/wombat/Desktop/課程筆記/政治與資訊/NSYSU1082（莊老師）/pdf_test/慶富案.pdf\n"
     ]
    }
   ],
   "source": [
    "pdf_path = \"/Users/wombat/Desktop/課程筆記/政治與資訊/NSYSU1082（莊老師）/pdf_test\" \n",
    "pdfs = glob.glob(\"{}/*.pdf\".format(pdf_path))\n",
    "newFlag = True\n",
    "FSeqNo = 0\n",
    "csv_path = \"politicaltest.csv\"\n",
    "for pdf in pdfs:\n",
    "    export_as_csv(pdf, csv_path, newFlag)\n",
    "    newFlag = False"
   ]
  },
  {
   "cell_type": "markdown",
   "metadata": {},
   "source": [
    "### 讀資料"
   ]
  },
  {
   "cell_type": "code",
   "execution_count": 22,
   "metadata": {},
   "outputs": [
    {
     "data": {
      "text/html": [
       "<div>\n",
       "<style scoped>\n",
       "    .dataframe tbody tr th:only-of-type {\n",
       "        vertical-align: middle;\n",
       "    }\n",
       "\n",
       "    .dataframe tbody tr th {\n",
       "        vertical-align: top;\n",
       "    }\n",
       "\n",
       "    .dataframe thead th {\n",
       "        text-align: right;\n",
       "    }\n",
       "</style>\n",
       "<table border=\"1\" class=\"dataframe\">\n",
       "  <thead>\n",
       "    <tr style=\"text-align: right;\">\n",
       "      <th></th>\n",
       "      <th>FileNo</th>\n",
       "      <th>FileName</th>\n",
       "      <th>Text</th>\n",
       "    </tr>\n",
       "  </thead>\n",
       "  <tbody>\n",
       "    <tr>\n",
       "      <th>0</th>\n",
       "      <td>1</td>\n",
       "      <td>慶富案.pdf</td>\n",
       "      <td>273 立法院公報 第106卷 第89期 委員會紀錄 立法院第9屆第4會期外交及國防委員...</td>\n",
       "    </tr>\n",
       "  </tbody>\n",
       "</table>\n",
       "</div>"
      ],
      "text/plain": [
       "   FileNo FileName                                               Text\n",
       "0       1  慶富案.pdf    273 立法院公報 第106卷 第89期 委員會紀錄 立法院第9屆第4會期外交及國防委員..."
      ]
     },
     "execution_count": 22,
     "metadata": {},
     "output_type": "execute_result"
    }
   ],
   "source": [
    "df2 = pd.read_csv(\"politicaltest.csv\",encoding='utf-8') #匯資料\n",
    "df2"
   ]
  },
  {
   "cell_type": "code",
   "execution_count": null,
   "metadata": {},
   "outputs": [],
   "source": []
  }
 ],
 "metadata": {
  "kernelspec": {
   "display_name": "Python 3",
   "language": "python",
   "name": "python3"
  },
  "language_info": {
   "codemirror_mode": {
    "name": "ipython",
    "version": 3
   },
   "file_extension": ".py",
   "mimetype": "text/x-python",
   "name": "python",
   "nbconvert_exporter": "python",
   "pygments_lexer": "ipython3",
   "version": "3.7.7"
  }
 },
 "nbformat": 4,
 "nbformat_minor": 2
}
